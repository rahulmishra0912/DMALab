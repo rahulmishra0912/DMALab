{
 "cells": [
  {
   "cell_type": "code",
   "execution_count": 3,
   "metadata": {},
   "outputs": [
    {
     "name": "stderr",
     "output_type": "stream",
     "text": [
      "/Anaconda/anaconda2/lib/python2.7/site-packages/sklearn/learning_curve.py:23: DeprecationWarning: This module was deprecated in version 0.18 in favor of the model_selection module into which all the functions are moved. This module will be removed in 0.20\n",
      "  DeprecationWarning)\n",
      "/Anaconda/anaconda2/lib/python2.7/site-packages/sklearn/grid_search.py:43: DeprecationWarning: This module was deprecated in version 0.18 in favor of the model_selection module into which all the refactored classes and functions are moved. This module will be removed in 0.20.\n",
      "  DeprecationWarning)\n",
      "/Anaconda/anaconda2/lib/python2.7/site-packages/IPython/core/interactiveshell.py:2881: FutureWarning: \n",
      "mpl_style had been deprecated and will be removed in a future version.\n",
      "Use `matplotlib.pyplot.style.use` instead.\n",
      "\n",
      "  exec(code_obj, self.user_global_ns, self.user_ns)\n"
     ]
    }
   ],
   "source": [
    "#Let's first import required Python packages.\n",
    "#Importing required Python packages\n",
    "import matplotlib.pylab as plt\n",
    "import numpy as np\n",
    "from scipy import sparse\n",
    "from sklearn.datasets import make_classification, make_blobs, load_boston\n",
    "from sklearn.decomposition import PCA\n",
    "from sklearn.cross_validation import ShuffleSplit, train_test_split#, Bootstrap\n",
    "from sklearn.preprocessing import StandardScaler\n",
    "from sklearn import metrics\n",
    "from sklearn.learning_curve import learning_curve\n",
    "from sklearn.linear_model import LinearRegression\n",
    "from sklearn.ensemble import GradientBoostingRegressor\n",
    "from sklearn.ensemble import RandomForestClassifier, ExtraTreesClassifier\n",
    "from sklearn.grid_search import GridSearchCV\n",
    "from pprint import pprint\n",
    "import pandas as pd\n",
    "from pandas.tools.plotting import scatter_matrix\n",
    "import urllib\n",
    "import seaborn\n",
    "np.random.seed(sum(map(ord, \"aesthetics\")))\n",
    "seaborn.set_context('notebook')\n",
    "pd.set_option('display.mpl_style', 'default') # Make the graphs a bit prettier\n",
    "plt.rcParams['figure.figsize'] = (15, 5)\n",
    "# Set some Pandas options\n",
    "pd.set_option('display.notebook_repr_html', False)\n",
    "pd.set_option('display.max_columns', 40)\n",
    "pd.set_option('display.max_rows', 25)\n",
    "pd.options.display.max_colwidth = 50\n",
    "%matplotlib inline"
   ]
  },
  {
   "cell_type": "code",
   "execution_count": 4,
   "metadata": {
    "collapsed": true
   },
   "outputs": [],
   "source": [
    "traincsv=pd.read_csv('train.csv', index_col='Id')\n",
    "testcsv=pd.read_csv('test.csv', index_col='Id')\n",
    "orig_traincsv = traincsv.copy()\n",
    "orig_testcsv = testcsv.copy()"
   ]
  },
  {
   "cell_type": "code",
   "execution_count": 5,
   "metadata": {},
   "outputs": [
    {
     "data": {
      "text/plain": [
       "    Elevation  Aspect  Slope  Horizontal_Distance_To_Hydrology  \\\n",
       "Id                                                               \n",
       "1        2596      51      3                               258   \n",
       "2        2590      56      2                               212   \n",
       "\n",
       "    Vertical_Distance_To_Hydrology  Horizontal_Distance_To_Roadways  \\\n",
       "Id                                                                    \n",
       "1                                0                              510   \n",
       "2                               -6                              390   \n",
       "\n",
       "    Hillshade_9am  Hillshade_Noon  Hillshade_3pm  \\\n",
       "Id                                                 \n",
       "1             221             232            148   \n",
       "2             220             235            151   \n",
       "\n",
       "    Horizontal_Distance_To_Fire_Points  Wilderness_Area1  Wilderness_Area2  \\\n",
       "Id                                                                           \n",
       "1                                 6279                 1                 0   \n",
       "2                                 6225                 1                 0   \n",
       "\n",
       "    Wilderness_Area3  Wilderness_Area4  Soil_Type1  Soil_Type2  Soil_Type3  \\\n",
       "Id                                                                           \n",
       "1                  0                 0           0           0           0   \n",
       "2                  0                 0           0           0           0   \n",
       "\n",
       "    Soil_Type4  Soil_Type5  Soil_Type6     ...      Soil_Type22  Soil_Type23  \\\n",
       "Id                                         ...                                 \n",
       "1            0           0           0     ...                0            0   \n",
       "2            0           0           0     ...                0            0   \n",
       "\n",
       "    Soil_Type24  Soil_Type25  Soil_Type26  Soil_Type27  Soil_Type28  \\\n",
       "Id                                                                    \n",
       "1             0            0            0            0            0   \n",
       "2             0            0            0            0            0   \n",
       "\n",
       "    Soil_Type29  Soil_Type30  Soil_Type31  Soil_Type32  Soil_Type33  \\\n",
       "Id                                                                    \n",
       "1             1            0            0            0            0   \n",
       "2             1            0            0            0            0   \n",
       "\n",
       "    Soil_Type34  Soil_Type35  Soil_Type36  Soil_Type37  Soil_Type38  \\\n",
       "Id                                                                    \n",
       "1             0            0            0            0            0   \n",
       "2             0            0            0            0            0   \n",
       "\n",
       "    Soil_Type39  Soil_Type40  Cover_Type  \n",
       "Id                                        \n",
       "1             0            0           5  \n",
       "2             0            0           5  \n",
       "\n",
       "[2 rows x 55 columns]"
      ]
     },
     "execution_count": 5,
     "metadata": {},
     "output_type": "execute_result"
    }
   ],
   "source": [
    "traincsv.head(2)"
   ]
  },
  {
   "cell_type": "code",
   "execution_count": 6,
   "metadata": {},
   "outputs": [
    {
     "data": {
      "text/plain": [
       "Empty DataFrame\n",
       "Columns: [Elevation, Aspect, Slope, Horizontal_Distance_To_Hydrology, Vertical_Distance_To_Hydrology, Horizontal_Distance_To_Roadways, Hillshade_9am, Hillshade_Noon, Hillshade_3pm, Horizontal_Distance_To_Fire_Points, Wilderness_Area1, Wilderness_Area2, Wilderness_Area3, Wilderness_Area4, Soil_Type1, Soil_Type2, Soil_Type3, Soil_Type4, Soil_Type5, Soil_Type6, Soil_Type7, Soil_Type8, Soil_Type9, Soil_Type10, Soil_Type11, Soil_Type12, Soil_Type13, Soil_Type14, Soil_Type15, Soil_Type16, Soil_Type17, Soil_Type18, Soil_Type19, Soil_Type20, Soil_Type21, Soil_Type22, Soil_Type23, Soil_Type24, Soil_Type25, Soil_Type26, Soil_Type27, Soil_Type28, Soil_Type29, Soil_Type30, Soil_Type31, Soil_Type32, Soil_Type33, Soil_Type34, Soil_Type35, Soil_Type36, Soil_Type37, Soil_Type38, Soil_Type39, Soil_Type40, Cover_Type]\n",
       "Index: []\n",
       "\n",
       "[0 rows x 55 columns]"
      ]
     },
     "execution_count": 6,
     "metadata": {},
     "output_type": "execute_result"
    }
   ],
   "source": [
    "traincsv[traincsv.isnull().any(axis=1)]"
   ]
  },
  {
   "cell_type": "code",
   "execution_count": 9,
   "metadata": {},
   "outputs": [
    {
     "name": "stdout",
     "output_type": "stream",
     "text": [
      "Initial Traincsv score: 1.00\n"
     ]
    }
   ],
   "source": [
    "#Initial Random Forest Model fitting with 1000 estimators. Note below, that the labels lie in the last column, Cover Type.\n",
    "rf_initial=RandomForestClassifier(n_estimators=1000, bootstrap=True, oob_score=True)\n",
    "rf_initial.fit(traincsv.ix[:,:-1].values, traincsv.iloc[:,-1:].values.ravel())\n",
    "print \"Initial Traincsv score: %.2f\" %rf_initial.score(traincsv.iloc[:,:-1].values, traincsv.iloc[:,-1:].values.ravel())"
   ]
  },
  {
   "cell_type": "code",
   "execution_count": 24,
   "metadata": {},
   "outputs": [],
   "source": [
    "#Always call fit on the estimator before invoking this method.\n",
    "def importances(estimator, col_array, title):\n",
    "# Calculate the feature ranking - Top 10\n",
    "    importances = estimator.feature_importances_\n",
    "    indices = np.argsort(importances)[::-1]\n",
    "    print \"%s Top 20 Important Features\\n\" %title\n",
    "    for f in range(20):\n",
    "        print(\"%d. %s (%f)\" % (f + 1, col_array.columns[indices[f]], importances[indices[f]]))\n",
    "#Mean Feature Importance\n",
    "        print \"\\nMean Feature Importance %.6f\" %np.mean(importances)\n",
    "#Plot the feature importances of the forest\n",
    "    indices=indices[:10]\n",
    "    plt.figure()\n",
    "    plt.title(title+\" Top 10 Feature importances\")\n",
    "    plt.bar(range(10), importances[indices],\n",
    "    color=\"gr\", align=\"center\")\n",
    "    plt.xticks(range(10), col_array.columns[indices], fontsize=14, rotation=90)\n",
    "    plt.xlim([-1, 10])\n",
    "    plt.show()"
   ]
  },
  {
   "cell_type": "code",
   "execution_count": 25,
   "metadata": {},
   "outputs": [
    {
     "name": "stdout",
     "output_type": "stream",
     "text": [
      "Cover Type (Initial RF) Top 20 Important Features\n",
      "\n",
      "1. Elevation (0.226674)\n",
      "\n",
      "Mean Feature Importance 0.018519\n",
      "2. Horizontal_Distance_To_Roadways (0.092598)\n",
      "\n",
      "Mean Feature Importance 0.018519\n",
      "3. Horizontal_Distance_To_Fire_Points (0.073811)\n",
      "\n",
      "Mean Feature Importance 0.018519\n",
      "4. Horizontal_Distance_To_Hydrology (0.062130)\n",
      "\n",
      "Mean Feature Importance 0.018519\n",
      "5. Vertical_Distance_To_Hydrology (0.053841)\n",
      "\n",
      "Mean Feature Importance 0.018519\n",
      "6. Hillshade_9am (0.051535)\n",
      "\n",
      "Mean Feature Importance 0.018519\n",
      "7. Aspect (0.049485)\n",
      "\n",
      "Mean Feature Importance 0.018519\n",
      "8. Hillshade_3pm (0.046268)\n",
      "\n",
      "Mean Feature Importance 0.018519\n",
      "9. Hillshade_Noon (0.044644)\n",
      "\n",
      "Mean Feature Importance 0.018519\n",
      "10. Wilderness_Area4 (0.043084)\n",
      "\n",
      "Mean Feature Importance 0.018519\n",
      "11. Slope (0.036259)\n",
      "\n",
      "Mean Feature Importance 0.018519\n",
      "12. Soil_Type10 (0.022820)\n",
      "\n",
      "Mean Feature Importance 0.018519\n",
      "13. Soil_Type38 (0.019145)\n",
      "\n",
      "Mean Feature Importance 0.018519\n",
      "14. Wilderness_Area1 (0.018641)\n",
      "\n",
      "Mean Feature Importance 0.018519\n",
      "15. Soil_Type3 (0.018617)\n",
      "\n",
      "Mean Feature Importance 0.018519\n",
      "16. Soil_Type39 (0.018286)\n",
      "\n",
      "Mean Feature Importance 0.018519\n",
      "17. Wilderness_Area3 (0.017207)\n",
      "\n",
      "Mean Feature Importance 0.018519\n",
      "18. Soil_Type4 (0.012420)\n",
      "\n",
      "Mean Feature Importance 0.018519\n",
      "19. Soil_Type40 (0.010259)\n",
      "\n",
      "Mean Feature Importance 0.018519\n",
      "20. Soil_Type30 (0.008029)\n",
      "\n",
      "Mean Feature Importance 0.018519\n"
     ]
    },
    {
     "data": {
      "image/png": "[encoded data removed]",
      "text/plain": [
       "<matplotlib.figure.Figure at 0x7fe61f6636d0>"
      ]
     },
     "metadata": {},
     "output_type": "display_data"
    }
   ],
   "source": [
    "#Call the method we just created to display the feature importances\n",
    "importances(rf_initial, traincsv, \"Cover Type (Initial RF)\")"
   ]
  },
  {
   "cell_type": "code",
   "execution_count": null,
   "metadata": {
    "collapsed": true
   },
   "outputs": [],
   "source": []
  }
 ],
 "metadata": {
  "kernelspec": {
   "display_name": "Python 2",
   "language": "python",
   "name": "python2"
  },
  "language_info": {
   "codemirror_mode": {
    "name": "ipython",
    "version": 2
   },
   "file_extension": ".py",
   "mimetype": "text/x-python",
   "name": "python",
   "nbconvert_exporter": "python",
   "pygments_lexer": "ipython2",
   "version": "2.7.13"
  }
 },
 "nbformat": 4,
 "nbformat_minor": 2
}
